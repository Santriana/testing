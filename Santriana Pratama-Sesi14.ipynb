{
 "cells": [
  {
   "cell_type": "markdown",
   "metadata": {},
   "source": [
    "### IF"
   ]
  },
  {
   "cell_type": "code",
   "execution_count": 1,
   "metadata": {},
   "outputs": [],
   "source": [
    "# 1.\n",
    "num1 = float(input('Enter the first number: '))\n",
    "num2 = float(input('Enter the second number: '))"
   ]
  },
  {
   "cell_type": "code",
   "execution_count": 2,
   "metadata": {},
   "outputs": [
    {
     "name": "stdout",
     "output_type": "stream",
     "text": [
      "13.0 is greater.\n"
     ]
    }
   ],
   "source": [
    "# 2.\n",
    "num1 = float(input('Enter the first number: '))\n",
    "num2 = float(input('Enter the second number: '))\n",
    "\n",
    "if num1 > num2:\n",
    "    print(f'{num1} is greater.')\n",
    "elif num2 > num1:\n",
    "    print(f'{num2} is greater.')\n",
    "else:\n",
    "    print('Both numbers are equal.')"
   ]
  },
  {
   "cell_type": "code",
   "execution_count": 3,
   "metadata": {},
   "outputs": [],
   "source": [
    "# 3.\n",
    "year = int(input('Enter a year: '))"
   ]
  },
  {
   "cell_type": "code",
   "execution_count": 4,
   "metadata": {},
   "outputs": [
    {
     "name": "stdout",
     "output_type": "stream",
     "text": [
      "2000 is a leap year\n"
     ]
    }
   ],
   "source": [
    "# 4.\n",
    "year = int(input('Enter a year: '))\n",
    "\n",
    "if (year%4 == 0 and year&100 != 0) or (year%400 == 0):\n",
    "    print(f'{year} is a leap year')\n",
    "else:\n",
    "    print(f'{year} is not a leap year.')"
   ]
  },
  {
   "cell_type": "markdown",
   "metadata": {},
   "source": [
    "### While"
   ]
  },
  {
   "cell_type": "code",
   "execution_count": 5,
   "metadata": {},
   "outputs": [],
   "source": [
    "# 5.\n",
    "total = 0\n",
    "num = 2"
   ]
  },
  {
   "cell_type": "code",
   "execution_count": 8,
   "metadata": {},
   "outputs": [
    {
     "name": "stdout",
     "output_type": "stream",
     "text": [
      "Sum of even numbers from 1 to 100: 2550\n"
     ]
    }
   ],
   "source": [
    "#6.\n",
    "total = 0\n",
    "num = 2\n",
    "\n",
    "while num <= 100:\n",
    "    total += num\n",
    "    num += 2\n",
    "\n",
    "print('Sum of even numbers from 1 to 100:', total)"
   ]
  },
  {
   "cell_type": "code",
   "execution_count": 9,
   "metadata": {},
   "outputs": [],
   "source": [
    "#7.\n",
    "password='Pororo12'"
   ]
  },
  {
   "cell_type": "code",
   "execution_count": 10,
   "metadata": {},
   "outputs": [
    {
     "name": "stdout",
     "output_type": "stream",
     "text": [
      "Incorrect password. Try again.\n",
      "Access granted!\n"
     ]
    }
   ],
   "source": [
    "#8.\n",
    "password='Pororo12'\n",
    "\n",
    "while True:\n",
    "    user_input = input('Enter the password:')\n",
    "    if user_input == password:\n",
    "        print('Access granted!')\n",
    "        break\n",
    "    else:\n",
    "        print('Incorrect password. Try again.')"
   ]
  },
  {
   "cell_type": "markdown",
   "metadata": {},
   "source": [
    "### For"
   ]
  },
  {
   "cell_type": "code",
   "execution_count": 11,
   "metadata": {},
   "outputs": [],
   "source": [
    "#9.\n",
    "num = int(input('Enter a number: '))"
   ]
  },
  {
   "cell_type": "code",
   "execution_count": 13,
   "metadata": {},
   "outputs": [
    {
     "name": "stdout",
     "output_type": "stream",
     "text": [
      "12 x 1 = 12\n",
      "12 x 2 = 24\n",
      "12 x 3 = 36\n",
      "12 x 4 = 48\n",
      "12 x 5 = 60\n",
      "12 x 6 = 72\n",
      "12 x 7 = 84\n",
      "12 x 8 = 96\n",
      "12 x 9 = 108\n",
      "12 x 10 = 120\n"
     ]
    }
   ],
   "source": [
    "#10.\n",
    "num = int(input('Enter a number: '))\n",
    "\n",
    "for i in range(1, 11):\n",
    "    print(f'{num} x {i} = {num*i}')"
   ]
  },
  {
   "cell_type": "code",
   "execution_count": 17,
   "metadata": {},
   "outputs": [],
   "source": [
    "#11.\n",
    "text = input('Enter a string: ')\n",
    "text = text.lower()\n",
    "\n",
    "\n",
    "vowel_count=0"
   ]
  },
  {
   "cell_type": "code",
   "execution_count": 18,
   "metadata": {},
   "outputs": [
    {
     "name": "stdout",
     "output_type": "stream",
     "text": [
      "Number of vowels in the string: 2\n"
     ]
    }
   ],
   "source": [
    "#12.\n",
    "text = input('Enter a string: ')\n",
    "text = text.lower()\n",
    "\n",
    "vowel_count=0\n",
    "\n",
    "for char in text:\n",
    "    if char in 'aeiou':\n",
    "        vowel_count += 1\n",
    "\n",
    "print(f'Number of vowels in the string: {vowel_count}')"
   ]
  },
  {
   "cell_type": "markdown",
   "metadata": {},
   "source": [
    "### Function"
   ]
  },
  {
   "cell_type": "code",
   "execution_count": 19,
   "metadata": {},
   "outputs": [
    {
     "name": "stdout",
     "output_type": "stream",
     "text": [
      "Hallo, John!\n"
     ]
    }
   ],
   "source": [
    "#13.\n",
    "def sapa(nama):\n",
    "    print(f'Hallo, {nama}!')\n",
    "\n",
    "sapa('John')"
   ]
  },
  {
   "cell_type": "code",
   "execution_count": 20,
   "metadata": {},
   "outputs": [
    {
     "name": "stdout",
     "output_type": "stream",
     "text": [
      "25\n"
     ]
    }
   ],
   "source": [
    "#14.\n",
    "def kuadrat(angka):\n",
    "    return angka ** 2\n",
    "\n",
    "hasil = kuadrat(5)\n",
    "print(hasil)"
   ]
  },
  {
   "cell_type": "code",
   "execution_count": 21,
   "metadata": {},
   "outputs": [
    {
     "name": "stdout",
     "output_type": "stream",
     "text": [
      "12\n"
     ]
    }
   ],
   "source": [
    "#15.\n",
    "def hitung_luas_persegi(panjang=1.0, lebar=1.0):\n",
    "    return panjang * lebar\n",
    "\n",
    "luas = hitung_luas_persegi(4,3)\n",
    "\n",
    "print(luas)"
   ]
  },
  {
   "cell_type": "code",
   "execution_count": 22,
   "metadata": {},
   "outputs": [
    {
     "name": "stdout",
     "output_type": "stream",
     "text": [
      "John Doe\n"
     ]
    }
   ],
   "source": [
    "#16.\n",
    "def bentuk_nama(nama_depan, nama_belakang=\"\"):\n",
    "    return f\"{nama_depan} {nama_belakang}\"\n",
    "\n",
    "nama = bentuk_nama('John', 'Doe')\n",
    "print(nama)"
   ]
  },
  {
   "cell_type": "code",
   "execution_count": 23,
   "metadata": {},
   "outputs": [
    {
     "name": "stdout",
     "output_type": "stream",
     "text": [
      "37.0\n"
     ]
    }
   ],
   "source": [
    "#17.\n",
    "def konversi_fahrenheit_ke_celcius(fahrenheit):\n",
    "    celcius = (fahrenheit - 32) * 5/9\n",
    "    return celcius\n",
    "\n",
    "suhu_celcius = konversi_fahrenheit_ke_celcius(98.6)\n",
    "print(suhu_celcius)"
   ]
  },
  {
   "cell_type": "code",
   "execution_count": 24,
   "metadata": {},
   "outputs": [
    {
     "name": "stdout",
     "output_type": "stream",
     "text": [
      "7\n"
     ]
    }
   ],
   "source": [
    "#18.\n",
    "def hitung_pangkat(angka, pangkat):\n",
    "    hasil = 1\n",
    "    for a in range(pangkat):\n",
    "        hasil += angka\n",
    "    return hasil\n",
    "\n",
    "pangkat = hitung_pangkat(2,3)\n",
    "print(pangkat)"
   ]
  },
  {
   "cell_type": "code",
   "execution_count": 26,
   "metadata": {},
   "outputs": [
    {
     "name": "stdout",
     "output_type": "stream",
     "text": [
      "Hello, Alice!\n",
      "Luas lingkaran dengan radius 5 adalah 78.54\n"
     ]
    }
   ],
   "source": [
    "#19.\n",
    "# import module already created\n",
    "import my_module\n",
    "\n",
    "# use the function from module\n",
    "message = my_module.greet('Alice')\n",
    "print(message)\n",
    "\n",
    "# Use variable from module\n",
    "radius = 5\n",
    "area = my_module.pi * my_module.square(radius)\n",
    "print(f'Luas lingkaran dengan radius {radius} adalah {area:.2f}')"
   ]
  },
  {
   "cell_type": "markdown",
   "metadata": {},
   "source": [
    "### Python Script"
   ]
  },
  {
   "cell_type": "code",
   "execution_count": 29,
   "metadata": {},
   "outputs": [],
   "source": [
    "#20. Kalkulator\n",
    "def tambah(x,y):\n",
    "    return x+y\n",
    "\n",
    "def kurang(x,y):\n",
    "    return x-y\n",
    "\n",
    "def kali(x,y):\n",
    "    return x*y\n",
    "\n",
    "def bagi(x,y):\n",
    "    if y == 0:\n",
    "        return \"tidak dapat dibagi oleh 0\"\n",
    "    return x/y"
   ]
  },
  {
   "cell_type": "code",
   "execution_count": 30,
   "metadata": {},
   "outputs": [
    {
     "name": "stdout",
     "output_type": "stream",
     "text": [
      "Pilih operasi: \n",
      "1. Tambah\n",
      "2. Kurang\n",
      "3. Kali\n",
      "4. Bagi\n",
      "5. Keluar\n",
      "Hasil: 5.0\n",
      "Pilih operasi: \n",
      "1. Tambah\n",
      "2. Kurang\n",
      "3. Kali\n",
      "4. Bagi\n",
      "5. Keluar\n",
      "Keluar dari kalkulator\n"
     ]
    }
   ],
   "source": [
    "#20. Kalkulator\n",
    "while True:\n",
    "    print('Pilih operasi: ')\n",
    "    print('1. Tambah')\n",
    "    print('2. Kurang')\n",
    "    print('3. Kali')\n",
    "    print('4. Bagi')\n",
    "    print('5. Keluar')\n",
    "\n",
    "    pilihan = input('Masukkan nomor operasi (1/2/3/4/5): ')\n",
    "\n",
    "    if pilihan == '5':\n",
    "        print('Keluar dari kalkulator')\n",
    "        break\n",
    "\n",
    "    angka1 = float(input('Masukkan angka pertama: '))\n",
    "    angka2 = float(input('Masukkan angka kedua: '))\n",
    "\n",
    "    if pilihan == '1':\n",
    "        print('Hasil:', tambah(angka1,angka2))\n",
    "    elif pilihan == '2':\n",
    "        print('Hasil', kurang(angka1,angka2))\n",
    "    elif pilihan == '3':\n",
    "        print('Hasil', kali(angka1,angka2))\n",
    "    elif pilihan == '4':\n",
    "        print('Hasil', bagi(angka1,angka2))\n",
    "    else:\n",
    "        print('Pilihan tidak valid')"
   ]
  },
  {
   "cell_type": "code",
   "execution_count": 31,
   "metadata": {},
   "outputs": [],
   "source": [
    "#21. Daftar belanja\n",
    "shopping_list = []\n",
    "\n",
    "def tambah_item(item):\n",
    "    shopping_list.append(item)\n",
    "    print(f'{item} telah ditambahkan ke daftar belanja.')\n",
    "\n",
    "def hapus_item(item):\n",
    "    if item in shopping_list:\n",
    "        shopping_list.remove(item)\n",
    "        print(f'{item} telah dihapus dari daftar belanja')\n",
    "    else:\n",
    "        print(f'{item} tidak ditemukkan dalam daftar belanja')\n",
    "\n",
    "def tampilkan_daftar():\n",
    "    print('Daftar belanja:')\n",
    "    for item in shopping_list:\n",
    "        print('-', item)"
   ]
  },
  {
   "cell_type": "code",
   "execution_count": 32,
   "metadata": {},
   "outputs": [
    {
     "name": "stdout",
     "output_type": "stream",
     "text": [
      "Apa yang ingin anda lakukan?\n",
      "1. Tambah item ke daftar belanja\n",
      "2. Hapus item dari daftar belanja\n",
      "3. Tampilkan daftar belanja\n",
      "4. Keluar\n",
      "Ayam telah ditambahkan ke daftar belanja.\n",
      "Apa yang ingin anda lakukan?\n",
      "1. Tambah item ke daftar belanja\n",
      "2. Hapus item dari daftar belanja\n",
      "3. Tampilkan daftar belanja\n",
      "4. Keluar\n",
      "bebek telah ditambahkan ke daftar belanja.\n",
      "Apa yang ingin anda lakukan?\n",
      "1. Tambah item ke daftar belanja\n",
      "2. Hapus item dari daftar belanja\n",
      "3. Tampilkan daftar belanja\n",
      "4. Keluar\n",
      "Keluar dari daftar belanja\n"
     ]
    }
   ],
   "source": [
    "# 21. Daftar belanja\n",
    "while True:\n",
    "    print('Apa yang ingin anda lakukan?')\n",
    "    print('1. Tambah item ke daftar belanja')\n",
    "    print('2. Hapus item dari daftar belanja')\n",
    "    print('3. Tampilkan daftar belanja')\n",
    "    print('4. Keluar')\n",
    "\n",
    "    pilihan = input('Pilih tindakan (1/2/3/4): ')\n",
    "\n",
    "    if pilihan == '1':\n",
    "        item = input('Masukkan item yang ingin ditambahkan: ')\n",
    "        tambah_item(item)\n",
    "    elif pilihan == '2':\n",
    "        item = input('Masukkan item yang ingin dihapus: ')\n",
    "        hapus_item(item)\n",
    "    elif pilihan == '3':\n",
    "        tampilkan_daftar(item)\n",
    "    elif pilihan == '4':\n",
    "        print('Keluar dari daftar belanja')\n",
    "        break\n",
    "    else:\n",
    "        print('Pilihan tidak valid')"
   ]
  },
  {
   "cell_type": "code",
   "execution_count": 33,
   "metadata": {},
   "outputs": [],
   "source": [
    "# 22. Kalkulator BMI (Body Mass Index)\n",
    "def hitung_bmi(berat,tinggi):\n",
    "    tinggi_m = tinggi/100\n",
    "    bmi = berat/(tinggi_m ** 2)\n",
    "    return bmi\n",
    "\n",
    "def kategori_bmi(bmi):\n",
    "    if bmi < 18.5:\n",
    "        return 'Kurus'\n",
    "    elif 18.5 <= bmi < 24.9:\n",
    "        return 'Normal'\n",
    "    elif 25 <= bmi < 29.9:\n",
    "        return 'Gemuk'\n",
    "    else:\n",
    "        return 'Obesitas'"
   ]
  },
  {
   "cell_type": "code",
   "execution_count": 34,
   "metadata": {},
   "outputs": [
    {
     "name": "stdout",
     "output_type": "stream",
     "text": [
      "BMi anda adalah 28.01 (Gemuk).\n"
     ]
    }
   ],
   "source": [
    "# 22. kalkulator BMI\n",
    "berat = float(input('Masukkan berat badan (kg): '))\n",
    "tinggi = float(input('Masukkan tinggi badan(cm): '))\n",
    "\n",
    "bmi = hitung_bmi(berat, tinggi)\n",
    "kategori = kategori_bmi(bmi)\n",
    "\n",
    "print(f'BMi anda adalah {bmi:.2f} ({kategori}).')"
   ]
  },
  {
   "cell_type": "code",
   "execution_count": 35,
   "metadata": {},
   "outputs": [
    {
     "name": "stdout",
     "output_type": "stream",
     "text": [
      "'adalah' ditemukan dalam teks.\n"
     ]
    }
   ],
   "source": [
    "# 23. Pencarian kata dalam teks\n",
    "teks = '''\n",
    "Ini adalah contoh teks. Teks ini digunakan untuk latihan pencarian kata\n",
    "'''\n",
    "\n",
    "kata_cari = input('Masukkan kata yang ingin anda cari: ')\n",
    "\n",
    "if kata_cari in teks:\n",
    "    print(f\"'{kata_cari}' ditemukan dalam teks.\")\n",
    "else:\n",
    "    print(f\"'{kata_cari}' tidak ditemukkan dalam teks\")"
   ]
  },
  {
   "cell_type": "code",
   "execution_count": 36,
   "metadata": {},
   "outputs": [
    {
     "name": "stdout",
     "output_type": "stream",
     "text": [
      "10.0 USD setara dengan 145000.0 IDR.\n"
     ]
    }
   ],
   "source": [
    "# 24. Konversi mata uang\n",
    "def konversi_mata_uang(jumlah, nilai_tukar):\n",
    "    return jumlah * nilai_tukar\n",
    "\n",
    "nilai_tukar_usd_ke_idr = 14500 #Example\n",
    "\n",
    "jumlah_usd = float(input('Masukkan jumlah dalam USD: '))\n",
    "jumlah_idr = konversi_mata_uang(jumlah_usd, nilai_tukar_usd_ke_idr)\n",
    "\n",
    "print(f'{jumlah_usd} USD setara dengan {jumlah_idr} IDR.')"
   ]
  },
  {
   "cell_type": "markdown",
   "metadata": {},
   "source": [
    "### Read & Write From Excel"
   ]
  },
  {
   "cell_type": "code",
   "execution_count": null,
   "metadata": {},
   "outputs": [],
   "source": [
    "# 25.Read & write from excel\n",
    "import pandas as pd\n",
    "\n",
    "def baca_data_excel(nama_file):\n",
    "    df = pd.read_excel(nama_file)\n",
    "    return df\n",
    "\n",
    "def tulis_data_excel(nama_file, df):\n",
    "    df.to_excel(nama_file, index=False)\n",
    "\n",
    "def main():\n",
    "    nama_file = 'produk.xlsx'\n",
    "    produk = baca_data_excel(nama_file)\n",
    "\n",
    "    print('Data produk: ')\n",
    "    print(produk)\n",
    "\n",
    "    tambah_produk = input(\"Tambah produk baru? (y/n): \")\n",
    "    if tambah_produk.lower() == 'y':\n",
    "        nama_produk = input('Nama produk: ')\n",
    "        harga_produk = float(input('Harga produk (IDR): '))\n",
    "        stok_produk = input('Stok produk: ')\n",
    "\n",
    "        produk_baru = {'Nama produk': nama_produk, 'Harga': harga_produk, 'Stok': stok_produk}\n",
    "        produk = produk.append(produk_baru, ignore+index = True)\n",
    "\n",
    "        tulis_data_excel(nama_file, produk)\n",
    "        print('Produk berhasil ditambahkan dan disimpan')\n",
    "\n",
    "if __name__ == '__main__':\n",
    "    main()"
   ]
  },
  {
   "cell_type": "code",
   "execution_count": null,
   "metadata": {},
   "outputs": [],
   "source": [
    "# 26. Read & write from sql\n",
    "# Fungsi untuk membaca data dari tabel\n",
    "def baca_data_sqlite(database_file):\n",
    "    connection = sqlite3.connect(database_file)\n",
    "    cursor = connection.cursor()\n",
    "    cursor.execute('SELECT * FROM produk')\n",
    "    connection.close()\n",
    "    return data\n",
    "\n",
    "# Fungsi untuk menambahkan data ke dalam tabel\n",
    "def tambah_data_sqlite(database_file, nama_produk, harga, stok):\n",
    "    connection = sqlite3.connect(database_file)\n",
    "    cursor = connection.cursor()\n",
    "    cursor.execute('INSERT INTO produk (nama_produk, harga, stok) VALUES (?, ?, ?)', \n",
    "                   (nama_produk, harga, stok))\n",
    "    connection.commit()\n",
    "    connection.close()\n",
    "\n",
    "def main():\n",
    "    database_file = 'produk.db'\n",
    "    produk = baca_data_sqlite(database_file)\n",
    "\n",
    "    print('Data produk: ')\n",
    "    for item in produk:\n",
    "        print(f'{item[1]}: {item[2]} IDR, Stok: {item[3]}')\n",
    "\n",
    "    tambah_produk = input('Tambah produk baru? (y/n): ')\n",
    "    if tambah_produk.lower() == 'y':\n",
    "        nama_produk = input('Nama produk: ')\n",
    "        harga_produk = input('Harga produk (IDR): ')\n",
    "        stok_produk = input('Stok produk: ')\n",
    "\n",
    "        tambah_data_sqlite(database_file, nama_produk, harga_produk, stok_produk)\n",
    "        print('Produk berhasil ditambahkan dan disimpan')\n",
    "\n",
    "if __name__ == '__main__':\n",
    "    main()"
   ]
  },
  {
   "cell_type": "code",
   "execution_count": null,
   "metadata": {},
   "outputs": [],
   "source": [
    "# 27. Read & write from csv\n",
    "# import module\n",
    "import csv\n",
    "\n",
    "def baca_data_csv(nama_file):\n",
    "    data = []\n",
    "    with open(nama_file, mode='r') as file:\n",
    "        csv_reader = csv.DictReader(file)\n",
    "        for row in csv_reader:\n",
    "            data.append(row)\n",
    "    return data\n",
    "\n",
    "\n",
    "def tulis_data_csv(nama_file, data):\n",
    "    with open(nama_file, mode='w', newline='') as file:\n",
    "        fieldnames = data[0].keys()\n",
    "        writer = csv.DictWriter(file, fieldnames=fieldnames)\n",
    "        writer.writeheader()\n",
    "        writer.writerows(data)\n",
    "\n",
    "\n",
    "def main():\n",
    "    nama_file = 'produk.csv'\n",
    "    produk = baca_data_csv(nama_file)\n",
    "\n",
    "    print('Data produk: ')\n",
    "\n",
    "    for item in produk:\n",
    "        print(f'{item['Nama Produk']}: {item['Harga']} IDR, Stok: {item['Stok']}')\n",
    "\n",
    "    tambah_produk = input('Tambahkan produk baru? (y/n): ')\n",
    "    if tambah_produk.lower() == 'y':\n",
    "        nama_produk = input('Nama produk: ')\n",
    "        harga_produk = input('Harga produk (IDR): ')\n",
    "        stok_produk = input('Stok produk: ')\n",
    "\n",
    "        produk.baru = {'Nama Produk': nama_produk, 'Harga': harga_produk, 'Stok': stok_produk}\n",
    "        produk.append(produk_baru)\n",
    "\n",
    "        tulis_data_csv(nama_file, produk)\n",
    "        print('Produk berhasil ditambahkan dan disimpan.')\n",
    "\n",
    "\n",
    "if __name__ == '__main__':\n",
    "    main()"
   ]
  }
 ],
 "metadata": {
  "kernelspec": {
   "display_name": "Python 3 (ipykernel)",
   "language": "python",
   "name": "python3"
  },
  "language_info": {
   "codemirror_mode": {
    "name": "ipython",
    "version": 3
   },
   "file_extension": ".py",
   "mimetype": "text/x-python",
   "name": "python",
   "nbconvert_exporter": "python",
   "pygments_lexer": "ipython3",
   "version": "3.11.5"
  }
 },
 "nbformat": 4,
 "nbformat_minor": 4
}
